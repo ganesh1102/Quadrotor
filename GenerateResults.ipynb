{
 "cells": [
  {
   "cell_type": "markdown",
   "id": "41a271b7",
   "metadata": {},
   "source": [
    "# Quadrotor (aka \"the drone\")"
   ]
  },
  {
   "cell_type": "markdown",
   "id": "45c49259",
   "metadata": {},
   "source": [
    "Import modules and configure the notebook."
   ]
  },
  {
   "cell_type": "code",
   "execution_count": 1,
   "id": "089f165b",
   "metadata": {},
   "outputs": [
    {
     "name": "stderr",
     "output_type": "stream",
     "text": [
      "pybullet build time: Sep 12 2022 21:19:41\n"
     ]
    },
    {
     "data": {
      "text/plain": [
       "<module 'ae353_drone' from '/Users/ganesh/Desktop/AE353DesignProject3/code/ae353_drone.py'>"
      ]
     },
     "execution_count": 1,
     "metadata": {},
     "output_type": "execute_result"
    }
   ],
   "source": [
    "# import required libraries\n",
    "import os\n",
    "import time\n",
    "import numpy as np\n",
    "import matplotlib.pyplot as plt\n",
    "import ae353_drone\n",
    "import sympy as sym\n",
    "import numpy as np\n",
    "import importlib\n",
    "from scipy import linalg\n",
    "from numpy import linalg as linalg1\n",
    "importlib.reload(ae353_drone)"
   ]
  },
  {
   "cell_type": "markdown",
   "id": "c27536cc",
   "metadata": {},
   "source": [
    "## Synthesize Linearized System Model"
   ]
  },
  {
   "cell_type": "markdown",
   "id": "c46ef6b1",
   "metadata": {},
   "source": [
    "### Derive EOM"
   ]
  },
  {
   "cell_type": "code",
   "execution_count": 2,
   "id": "fb509e78",
   "metadata": {},
   "outputs": [],
   "source": [
    "# copy from DeriveEOM notebook\n",
    "\n",
    "m = sym.nsimplify(0.5)\n",
    "J1 = sym.nsimplify(0.0023)\n",
    "J2 = sym.nsimplify(0.0023)\n",
    "J3 = sym.nsimplify(0.0040)\n",
    "l = sym.nsimplify(0.175)\n",
    "g = sym.nsimplify(9.81)"
   ]
  },
  {
   "cell_type": "code",
   "execution_count": 3,
   "id": "205cb86d",
   "metadata": {},
   "outputs": [],
   "source": [
    "# get f\n",
    "\n",
    "# components of position (meters)\n",
    "p_x, p_y, p_z = sym.symbols('p_x, p_y, p_z')\n",
    "\n",
    "# roll, pitch, yaw angles (radians)\n",
    "phi, theta, psi = sym.symbols('phi, theta, psi')\n",
    "\n",
    "# components of linear velocity (meters / second)\n",
    "v_x, v_y, v_z = sym.symbols('v_x, v_y, v_z')\n",
    "\n",
    "# components of angular velocity (radians / second)\n",
    "w_x, w_y, w_z = sym.symbols('w_x, w_y, w_z')\n",
    "\n",
    "# components of net rotor torque\n",
    "tau_x, tau_y, tau_z = sym.symbols('tau_x, tau_y, tau_z')\n",
    "\n",
    "# net rotor force\n",
    "f_z = sym.symbols('f_z')\n",
    "\n",
    "# parameters\n",
    "m = sym.nsimplify(0.5)\n",
    "Jx = sym.nsimplify(0.0023)\n",
    "Jy = sym.nsimplify(0.0023)\n",
    "Jz = sym.nsimplify(0.0040)\n",
    "l = sym.nsimplify(0.175)\n",
    "g = sym.nsimplify(9.81)\n",
    "\n",
    "# rotation matrices\n",
    "Rx = sym.Matrix([[1, 0, 0], [0, sym.cos(phi), -sym.sin(phi)], [0, sym.sin(phi), sym.cos(phi)]])\n",
    "Ry = sym.Matrix([[sym.cos(theta), 0, sym.sin(theta)], [0, 1, 0], [-sym.sin(theta), 0, sym.cos(theta)]])\n",
    "Rz = sym.Matrix([[sym.cos(psi), -sym.sin(psi), 0], [sym.sin(psi), sym.cos(psi), 0], [0, 0, 1]])\n",
    "Rxyz = Rx * Ry * Rz\n",
    "\n",
    "# angular velocity to angular rates\n",
    "ex = sym.Matrix([[1], [0], [0]])\n",
    "ey = sym.Matrix([[0], [1], [0]])\n",
    "ez = sym.Matrix([[0], [0], [1]])\n",
    "M = sym.simplify(sym.Matrix.hstack((Ry * Rz).T * ex, Rz.T * ey, ez).inv(), full=True)\n",
    "\n",
    "# applied forces\n",
    "forces = sym.Matrix([[0], [0], [-m * g]]) + Rxyz * sym.Matrix([[0], [0], [f_z]])\n",
    "\n",
    "# euler's equations\n",
    "euler = sym.Matrix([[(1 / Jx) * (tau_x + (Jy - Jz) * w_y * w_z)],\n",
    "                   [(1 / Jy) * (tau_y + (Jz - Jx) * w_z * w_x)],\n",
    "                   [(1 / Jz) * (tau_z + (Jx - Jy) * w_x * w_y)]])\n",
    "\n",
    "# equations of motion\n",
    "f = sym.Matrix.vstack(sym.Matrix([[v_x], [v_y], [v_z]]),\n",
    "                      M * sym.Matrix([[w_x], [w_y], [w_z]]),\n",
    "                      (1 / m) * forces,\n",
    "                      euler)\n",
    "f = sym.simplify(f, full=True)"
   ]
  },
  {
   "cell_type": "code",
   "execution_count": 4,
   "id": "a20b3a2b",
   "metadata": {},
   "outputs": [],
   "source": [
    "# think about what g should be.\n",
    "    # y = g(x), i.e., g should be the relation between state and output. What if output is directly some of the states?\n",
    "    # what is the dimension of g? i.e., how many equations in g if say y is 6x1?\n",
    "\n",
    "# get g\n",
    "g = sym.Matrix([[p_x],[p_y],[p_z],[phi],[theta],[psi]])"
   ]
  },
  {
   "cell_type": "markdown",
   "id": "0da9ccc5",
   "metadata": {},
   "source": [
    "### Linearize - Get A, B, C, D matrices"
   ]
  },
  {
   "cell_type": "code",
   "execution_count": 5,
   "id": "8c18043c",
   "metadata": {},
   "outputs": [],
   "source": [
    "# pick equilibrium values\n",
    "pxe = 0\n",
    "pye = 0\n",
    "pze = 0\n",
    "phie = 0\n",
    "thetae = 0\n",
    "psie = 0\n",
    "vxe = 0\n",
    "vye = 0 \n",
    "vze = 0\n",
    "wxe = 0\n",
    "wye =0\n",
    "wze =0 \n",
    "tauxe = 0\n",
    "tauye = 0\n",
    "tauze = 0 \n",
    "fze = 4.905"
   ]
  },
  {
   "cell_type": "code",
   "execution_count": 6,
   "id": "30fb74a7",
   "metadata": {},
   "outputs": [
    {
     "data": {
      "text/latex": [
       "$\\displaystyle \\left[\\begin{array}{cccccccccccc}0 & 0 & 0 & 0 & 0 & 0 & 1.0 & 0 & 0 & 0 & 0 & 0\\\\0 & 0 & 0 & 0 & 0 & 0 & 0 & 1.0 & 0 & 0 & 0 & 0\\\\0 & 0 & 0 & 0 & 0 & 0 & 0 & 0 & 1.0 & 0 & 0 & 0\\\\0 & 0 & 0 & 0 & 0 & 0 & 0 & 0 & 0 & 1.0 & 0 & 0\\\\0 & 0 & 0 & 0 & 0 & 0 & 0 & 0 & 0 & 0 & 1.0 & 0\\\\0 & 0 & 0 & 0 & 0 & 0 & 0 & 0 & 0 & 0 & 0 & 1.0\\\\0 & 0 & 0 & 0 & 9.81 & 0 & 0 & 0 & 0 & 0 & 0 & 0\\\\0 & 0 & 0 & -9.81 & 0 & 0 & 0 & 0 & 0 & 0 & 0 & 0\\\\0 & 0 & 0 & 0 & 0 & 0 & 0 & 0 & 0 & 0 & 0 & 0\\\\0 & 0 & 0 & 0 & 0 & 0 & 0 & 0 & 0 & 0 & 0 & 0\\\\0 & 0 & 0 & 0 & 0 & 0 & 0 & 0 & 0 & 0 & 0 & 0\\\\0 & 0 & 0 & 0 & 0 & 0 & 0 & 0 & 0 & 0 & 0 & 0\\end{array}\\right]$"
      ],
      "text/plain": [
       "Matrix([\n",
       "[0, 0, 0,     0,    0, 0, 1.0,   0,   0,   0,   0,   0],\n",
       "[0, 0, 0,     0,    0, 0,   0, 1.0,   0,   0,   0,   0],\n",
       "[0, 0, 0,     0,    0, 0,   0,   0, 1.0,   0,   0,   0],\n",
       "[0, 0, 0,     0,    0, 0,   0,   0,   0, 1.0,   0,   0],\n",
       "[0, 0, 0,     0,    0, 0,   0,   0,   0,   0, 1.0,   0],\n",
       "[0, 0, 0,     0,    0, 0,   0,   0,   0,   0,   0, 1.0],\n",
       "[0, 0, 0,     0, 9.81, 0,   0,   0,   0,   0,   0,   0],\n",
       "[0, 0, 0, -9.81,    0, 0,   0,   0,   0,   0,   0,   0],\n",
       "[0, 0, 0,     0,    0, 0,   0,   0,   0,   0,   0,   0],\n",
       "[0, 0, 0,     0,    0, 0,   0,   0,   0,   0,   0,   0],\n",
       "[0, 0, 0,     0,    0, 0,   0,   0,   0,   0,   0,   0],\n",
       "[0, 0, 0,     0,    0, 0,   0,   0,   0,   0,   0,   0]])"
      ]
     },
     "execution_count": 6,
     "metadata": {},
     "output_type": "execute_result"
    }
   ],
   "source": [
    "# Get A matrix\n",
    "A = f.jacobian([p_x,p_y,p_z,phi,theta,psi,v_x,v_y,v_z,w_x,w_y,w_z])\n",
    "A_eval = A.evalf(subs={p_x:pxe,p_y:pye,p_z:pze,phi:phie,psi:psie,theta:thetae,v_x:vxe,v_y:vye,v_z:vze,tau_x:tauxe,tau_y:tauye,tau_z:tauze,f_z:fze,w_x:wxe,w_y:wye,w_z:wze})\n",
    "A_nume = np.array(A_eval).astype(np.float64)\n",
    "# do jacobian of f and substitute the eq values\n",
    "#print(f'Dimensions of A matrix is: {np.shape(A)}')\n",
    "\n",
    "# Get B\n",
    "B = f.jacobian([tau_x,tau_y,tau_z,f_z])\n",
    "B_eval = B.evalf(subs={p_x:pxe,p_y:pye,p_z:pze,phi:phie,psi:psie,theta:thetae,v_x:vxe,v_y:vye,v_z:vze,tau_x:tauxe,tau_y:tauye,tau_z:tauze,f_z:fze,w_x:wxe,w_y:wye,w_z:wze})\n",
    "B_nume = np.array(B_eval).astype(np.float64)\n",
    "A_eval"
   ]
  },
  {
   "cell_type": "code",
   "execution_count": 7,
   "id": "1e47a53c",
   "metadata": {},
   "outputs": [
    {
     "data": {
      "text/plain": [
       "array([[1., 0., 0., 0., 0., 0., 0., 0., 0., 0., 0., 0.],\n",
       "       [0., 1., 0., 0., 0., 0., 0., 0., 0., 0., 0., 0.],\n",
       "       [0., 0., 1., 0., 0., 0., 0., 0., 0., 0., 0., 0.],\n",
       "       [0., 0., 0., 1., 0., 0., 0., 0., 0., 0., 0., 0.],\n",
       "       [0., 0., 0., 0., 1., 0., 0., 0., 0., 0., 0., 0.],\n",
       "       [0., 0., 0., 0., 0., 1., 0., 0., 0., 0., 0., 0.]])"
      ]
     },
     "execution_count": 7,
     "metadata": {},
     "output_type": "execute_result"
    }
   ],
   "source": [
    "# Get C matrix\n",
    "C =  g.jacobian([p_x,p_y,p_z,phi,theta,psi,v_x,v_y,v_z,w_x,w_y,w_z])\n",
    "C_eval = C.evalf(subs={p_x:pxe,p_y:pye,p_z:pze,phi:phie,psi:psie,theta:thetae,v_x:vxe,v_y:vye,v_z:vze,tau_x:tauxe,tau_y:tauye,tau_z:tauze,f_z:fze,w_x:wxe,w_y:wye,w_z:wze})\n",
    "C_nume = np.array(C_eval).astype(np.float64) \n",
    "C_nume\n",
    "# do jacobian of g and substitute the eq values\n",
    "#print(f'Dimensions of C matrix is: {np.shape(C)}')"
   ]
  },
  {
   "cell_type": "markdown",
   "id": "5749018e",
   "metadata": {},
   "source": [
    "### Verify Controllability and Observability"
   ]
  },
  {
   "cell_type": "code",
   "execution_count": 8,
   "id": "dd16f119",
   "metadata": {},
   "outputs": [
    {
     "name": "stdout",
     "output_type": "stream",
     "text": [
      "12\n",
      "(12, 12)\n"
     ]
    }
   ],
   "source": [
    "#  check controllability\n",
    "n = A_nume.shape[0]\n",
    "W = B_nume\n",
    "for i in range(1,n):\n",
    "    column = np.linalg.matrix_power(A_nume,i)@B_nume\n",
    "    W = np.block([W,column])\n",
    "    \n",
    "rank = np.linalg.matrix_rank(W)\n",
    "print(rank)\n",
    "print(A.shape)"
   ]
  },
  {
   "cell_type": "code",
   "execution_count": 9,
   "id": "4d7bf0a8",
   "metadata": {},
   "outputs": [
    {
     "name": "stdout",
     "output_type": "stream",
     "text": [
      "12\n",
      "(12, 12)\n"
     ]
    }
   ],
   "source": [
    "# check observability\n",
    "\n",
    "O = C_nume.T\n",
    "for i in range(1,n):\n",
    "    column = (C_nume@np.linalg.matrix_power(A_nume,i)).T\n",
    "    O = np.block([O,column])\n",
    "\n",
    "print(np.linalg.matrix_rank(O))\n",
    "print(A.shape)"
   ]
  },
  {
   "cell_type": "markdown",
   "id": "49b4a27f",
   "metadata": {},
   "source": [
    "## Design Controller and Observer"
   ]
  },
  {
   "cell_type": "code",
   "execution_count": 10,
   "id": "c1ce3623",
   "metadata": {},
   "outputs": [],
   "source": [
    "def LQR(A,B,Q,R):\n",
    "    P = linalg.solve_continuous_are(A,B,Q,R)\n",
    "    res = linalg.inv(R)@B.T@P\n",
    "    return res"
   ]
  },
  {
   "cell_type": "code",
   "execution_count": 11,
   "id": "419b5112",
   "metadata": {},
   "outputs": [
    {
     "data": {
      "text/plain": [
       "(4, 12)"
      ]
     },
     "execution_count": 11,
     "metadata": {},
     "output_type": "execute_result"
    }
   ],
   "source": [
    "# Design controller\n",
    "Q = np.diag([40000,60000,60000,1,1,1,1,1,1,1,1,1])\n",
    "\n",
    "R = np.diag([5,5,5,2.5])\n",
    "\n",
    "P = linalg.solve_continuous_are(A_nume, B_nume, Q, R)\n",
    "\n",
    "K = linalg.inv(R)@B_nume.T@P\n",
    "\n",
    "np.shape(K)"
   ]
  },
  {
   "cell_type": "code",
   "execution_count": 12,
   "id": "17eed620",
   "metadata": {},
   "outputs": [
    {
     "data": {
      "text/plain": [
       "(12, 6)"
      ]
     },
     "execution_count": 12,
     "metadata": {},
     "output_type": "execute_result"
    }
   ],
   "source": [
    "# design observer\n",
    "Q1 = np.diag([500,500,500,500,500,500])\n",
    "R1 = np.diag([1,1,1,1,1,1,1,1,1,1,1,1])\n",
    "L = LQR(A_nume.T,C_nume.T,linalg.inv(R1),linalg.inv(Q1)).T\n",
    "np.shape(L)"
   ]
  },
  {
   "cell_type": "markdown",
   "id": "baa63691",
   "metadata": {},
   "source": [
    "## Run Simulation"
   ]
  },
  {
   "cell_type": "code",
   "execution_count": 13,
   "id": "87cb907b",
   "metadata": {},
   "outputs": [],
   "source": [
    "# create an instance of the simulator. Run this only once. You can run rest of the cells if you update the controller\n",
    "# but don't run this cell again\n",
    "\n",
    "# pos_noise = 0 makes noise in position measurements zero. It should be left at 0\n",
    "# rpy_noise = 0 makes noise in orientation measurements zero. It should be left at 0\n",
    "# num_rings = number of rings in the arena. Default value is 2.\n",
    "# ring_separation = separation between rings. Leave it at 5.\n",
    "\n",
    "simulator = ae353_drone.Simulator(display=True, pos_noise=0, rpy_noise=0, num_rings=5, ring_separation=5)"
   ]
  },
  {
   "cell_type": "code",
   "execution_count": 14,
   "id": "6090e92f",
   "metadata": {},
   "outputs": [],
   "source": [
    "class RobotController:\n",
    "    def __init__(self, limiter=None):\n",
    "        self.dt = 0.01\n",
    "        self.limiter = limiter # function to provide lower and upper bounds on your control outputs value. \n",
    "        \n",
    "        # You don't need a limiter function so you can leave it unchanged\n",
    "        self.A = A_nume\n",
    "        self.B = B_nume\n",
    "        self.C = C_nume\n",
    "        self.K = K\n",
    "        self.L = L\n",
    "        self.p_x_e = pxe\n",
    "        self.p_y_e = pye\n",
    "        self.p_z_e = pze\n",
    "        self.phi_e = phie\n",
    "        self.theta_e = thetae\n",
    "        self.psi_e = psie\n",
    "        self.v_x_e = vxe\n",
    "        self.v_y_e = vye\n",
    "        self.v_z_e = vze\n",
    "        self.w_x_e = wxe\n",
    "        self.w_y_e = wye\n",
    "        self.w_z_e = wze\n",
    "        self.tau_x_e = tauxe\n",
    "        self.tau_y_e = tauye\n",
    "        self.tau_z_e = tauze\n",
    "        self.f_z_e = fze \n",
    "\n",
    "    def get_color(self):\n",
    "        return [0., 1., 0.]\n",
    "\n",
    "    def reset(self, pos):\n",
    "        self.xhat = np.zeros(12).reshape((12,1))\n",
    "\n",
    "    def run(self, pos, rpy, pos_ring, is_last_ring, pos_others):\n",
    "        \n",
    "        # Inputs description:\n",
    "        # pos = current position of drone\n",
    "        # rpy = current rpy of drone\n",
    "        # pos_ring = position of next ring center\n",
    "        # is_last_ring = true or false\n",
    "        # pos_others = position of other drones, if exist\n",
    "        \n",
    "        pxa = pos[0] \n",
    "        pya = pos[1]\n",
    "        pza = pos[2]\n",
    "        \n",
    "        phia = rpy[0]\n",
    "        thetaa = rpy[1]\n",
    "        psia = rpy[2]\n",
    "        \n",
    "        # create y vector\n",
    "        y = np.array([[pxa],[pya],[pza],[phia],[thetaa],[psia]])\n",
    "        \n",
    "        # get desired point and make it an equilibrium point\n",
    "        x_des = (float)(pos_ring[0])\n",
    "        y_des = (float)(pos_ring[1])\n",
    "        z_des = (float)(pos_ring[2])\n",
    "        x_est = (float)(self.xhat[0])\n",
    "        y_est = (float)(self.xhat[1])\n",
    "        z_est = (float)(self.xhat[2])\n",
    "        \n",
    "        position_est = np.array([[x_est],[y_est],[z_est]])\n",
    "        \n",
    "        error = pos_ring - position_est\n",
    "        \n",
    "        x_des = x_est + (x_des - x_est) /  (1*np.linalg.norm(error))\n",
    "        y_des = y_est + (y_des - y_est)  / (1*np.linalg.norm(error))\n",
    "        z_des = z_est + (z_des - z_est) / (1*np.linalg.norm(error))\n",
    "\n",
    "        x_hat = np.array([[x_des], [y_des], [z_des],[0.], [0.], [0.],[0.], [0.], [0.],[0.], [0.], [0.]])\n",
    "        u = -self.K @ (self.xhat - x_hat)\n",
    "\n",
    "        # update state estimate\n",
    "        tau_x = u[0] + self.tau_x_e\n",
    "        tau_y = u[1] + self.tau_y_e\n",
    "        tau_z = u[2] + self.tau_z_e\n",
    "        f_z = u[3] + self.f_z_e\n",
    "        self.xhat = self.xhat + (self.A @ self.xhat + self.B @ u - self.L @ (self.C @ self.xhat - y))*self.dt\n",
    "        \n",
    "        # data is automatically logged; see plotting code below to see how to access it\n",
    "        \n",
    "        \n",
    "        # setup a limiter function - don't change\n",
    "        if self.limiter is not None:\n",
    "            tau_x, tau_y, tau_z, f_z = self.limiter(tau_x, tau_y, tau_z, f_z)\n",
    "\n",
    "        # return controls\n",
    "        return tau_x, tau_y, tau_z, f_z"
   ]
  },
  {
   "cell_type": "code",
   "execution_count": 15,
   "id": "7c46aadf",
   "metadata": {},
   "outputs": [],
   "source": [
    "# clear any previously added drones from the simulator. Run this cell to reset the environment\n",
    "simulator.clear_drones()"
   ]
  },
  {
   "cell_type": "markdown",
   "id": "d31fe88c",
   "metadata": {},
   "source": [
    "Add the drone to the simulator. There are three arguments:\n",
    "\n",
    "* `RobotController` is the class definition\n",
    "* `'my_netid'` is the name of the drone\n",
    "* `'my_image.png'` is the name of an image to use as a label (can be `None`, can be a file path)\n",
    "\n",
    "You can call this function more than once, so long as you call it with a different drone name each time. An exception will be raised if you try to add two drones of the same name to the simulator."
   ]
  },
  {
   "cell_type": "code",
   "execution_count": 16,
   "id": "bcb0b828",
   "metadata": {},
   "outputs": [],
   "source": [
    "# add a drone that operates with the controller 'RobotController' that you designed above\n",
    "simulator.add_drone(RobotController, '1', 'my_image.png')"
   ]
  },
  {
   "cell_type": "markdown",
   "id": "aecb1977",
   "metadata": {},
   "source": [
    "Reset the drone (i.e., place it at a random location in the start ring)."
   ]
  },
  {
   "cell_type": "code",
   "execution_count": 17,
   "id": "f01c3971",
   "metadata": {},
   "outputs": [],
   "source": [
    "# reset drone to random initial location\n",
    "simulator.reset() "
   ]
  },
  {
   "cell_type": "markdown",
   "id": "b03a8f3a",
   "metadata": {},
   "source": [
    "Run simulation until `max_time` is reached or until the drone reaches the finish ring."
   ]
  },
  {
   "cell_type": "code",
   "execution_count": 18,
   "id": "c08d66e9-3ba1-4029-bf08-8e7d37537419",
   "metadata": {},
   "outputs": [],
   "source": [
    "simulator.camera_droneview('1')"
   ]
  },
  {
   "cell_type": "code",
   "execution_count": 19,
   "id": "82526142",
   "metadata": {},
   "outputs": [
    {
     "name": "stderr",
     "output_type": "stream",
     "text": [
      "/Users/ganesh/Desktop/AE353DesignProject3/code/ae353_drone.py:528: VisibleDeprecationWarning: Creating an ndarray from ragged nested sequences (which is a list-or-tuple of lists-or-tuples-or ndarrays with different lengths or shapes) is deprecated. If you meant to do this, you must specify 'dtype=object' when creating the ndarray.\n",
      "  pybullet.applyExternalForce(drone['id'], 0, np.array([0., 0., drone['u'][3]]), np.array([0., 0., 0.]), pybullet.LINK_FRAME)\n"
     ]
    },
    {
     "name": "stdout",
     "output_type": "stream",
     "text": [
      "FINISHED: drone \"1\" at time 104.98\n"
     ]
    }
   ],
   "source": [
    "# simulation runs until max_time or until reaching last ring\n",
    "simulator.run(max_time=500.0) "
   ]
  },
  {
   "cell_type": "markdown",
   "id": "f6613320",
   "metadata": {},
   "source": [
    "## Example of how to get data and plot results"
   ]
  },
  {
   "cell_type": "markdown",
   "id": "c59cd237",
   "metadata": {},
   "source": [
    "Assume that we already did two things:\n",
    "\n",
    "* Added a drone with the name `my_netid` to the simulator\n",
    "* Ran the simulation"
   ]
  },
  {
   "cell_type": "markdown",
   "id": "6543d0b2",
   "metadata": {},
   "source": [
    "Get drone by name. It is the name you assigned while using `simulator.add_drone()`. "
   ]
  },
  {
   "cell_type": "code",
   "execution_count": 20,
   "id": "9a15feff",
   "metadata": {},
   "outputs": [],
   "source": [
    "drone_name = '1' # drone name\n",
    "drone = simulator.get_drone_by_name(drone_name) # get the internal drone object corresponding to the drone name\n",
    "\n",
    "if drone is None:\n",
    "    drone_names = '\\n'.join([d['name'] for d in simulator.drones])\n",
    "    msg = f'The simulator has no drone with name \"{drone_name}\".'\n",
    "    if len(drone_names) == 0:\n",
    "        msg += f' The simulator has no drones at all, in fact.'\n",
    "    else:\n",
    "        msg += f' The simulator has these drones:'\n",
    "        msg += f'\\n==========\\n{drone_names}\\n==========\\n'\n",
    "    print(msg)"
   ]
  },
  {
   "cell_type": "markdown",
   "id": "5b9e0cb0",
   "metadata": {},
   "source": [
    "Extract data."
   ]
  },
  {
   "cell_type": "code",
   "execution_count": 21,
   "id": "995d7062",
   "metadata": {},
   "outputs": [],
   "source": [
    "# get all the data from the drone with the name 'my_netid' as assigned in previous cell\n",
    "data = drone['data'].copy()"
   ]
  },
  {
   "cell_type": "markdown",
   "id": "13a2733b",
   "metadata": {},
   "source": [
    "Convert all lists in data to numpy arrays."
   ]
  },
  {
   "cell_type": "code",
   "execution_count": 22,
   "id": "f8abe9d7",
   "metadata": {},
   "outputs": [],
   "source": [
    "for key in data.keys():\n",
    "    if key != 'user_data':\n",
    "        data[key] = np.array(data[key]).T\n",
    "for key in data['user_data'].keys():\n",
    "    data['user_data'][key] = np.array(data['user_data'][key]).T"
   ]
  },
  {
   "cell_type": "markdown",
   "id": "8855ee2c",
   "metadata": {},
   "source": [
    "Did the drone finish? If so, what was the time at which it finished? If not, was it still running (or was there likely an error)?"
   ]
  },
  {
   "cell_type": "code",
   "execution_count": 23,
   "id": "cc239f8d",
   "metadata": {},
   "outputs": [
    {
     "name": "stdout",
     "output_type": "stream",
     "text": [
      "The drone \"1\" finished with time: 104.98\n"
     ]
    }
   ],
   "source": [
    "if drone['finish_time'] is None:\n",
    "    if drone['running']:\n",
    "        print(f'The drone \"{drone[\"name\"]}\" did not finish.')\n",
    "    else:\n",
    "        print(f'The drone \"{drone[\"name\"]}\" did not finish and was no longer running.')\n",
    "else:\n",
    "    print(f'The drone \"{drone[\"name\"]}\" finished with time: {drone[\"finish_time\"]}')"
   ]
  },
  {
   "cell_type": "markdown",
   "id": "084e3036",
   "metadata": {},
   "source": [
    "Plot results."
   ]
  },
  {
   "cell_type": "code",
   "execution_count": 24,
   "id": "e370fe63",
   "metadata": {},
   "outputs": [
    {
     "data": {
      "image/png": "[encoded data removed]",
      "text/plain": [
       "<Figure size 900x1200 with 3 Axes>"
      ]
     },
     "metadata": {},
     "output_type": "display_data"
    }
   ],
   "source": [
    "fig, (ax_pos, ax_rpy, ax_act) = plt.subplots(3, 1, figsize=(9, 12), sharex=True)\n",
    "\n",
    "# Position\n",
    "ax_pos.plot(data['t'], data['pos'][0, :], label='x (m)', linewidth=4)\n",
    "ax_pos.plot(data['t'], data['pos'][1, :], label='y (m)', linewidth=4)\n",
    "ax_pos.plot(data['t'], data['pos'][2, :], label='z (m)', linewidth=4)\n",
    "ax_pos.grid()\n",
    "ax_pos.legend(fontsize=16)\n",
    "ax_pos.tick_params(labelsize=14)\n",
    "\n",
    "# Roll, pitch, and yaw angles\n",
    "ax_rpy.plot(data['t'], data['rpy'][0, :], label='roll (rad)', linewidth=4)\n",
    "ax_rpy.plot(data['t'], data['rpy'][1, :], label='pitch (rad)', linewidth=4)\n",
    "ax_rpy.plot(data['t'], data['rpy'][2, :], label='yaw (rad)', linewidth=4)\n",
    "ax_rpy.grid()\n",
    "ax_rpy.legend(fontsize=16)\n",
    "ax_rpy.tick_params(labelsize=14)\n",
    "\n",
    "# Actuator commands\n",
    "ax_act.plot(data['t'], data['tau_x'][0, :], label='tau_x (N-m)', linewidth=4)\n",
    "# ax_act.plot(data['t'], data['user_data']['tau_x_des'][0, :], '--', label='desired tau_x (N-m)', linewidth=4)\n",
    "ax_act.plot(data['t'], data['tau_y'][0, :], label='tau_y (N-m)', linewidth=4)\n",
    "# ax_act.plot(data['t'], data['user_data']['tau_y_des'], '--', label='desired tau_y (N-m)', linewidth=4)\n",
    "ax_act.plot(data['t'], data['tau_z'][0, :], label='tau_z (N-m)', linewidth=4)\n",
    "# ax_act.plot(data['t'], data['user_data']['tau_z_des'], '--', label='desired tau_z (N-m)', linewidth=4)\n",
    "ax_act.plot(data['t'], data['f_z'][0, :], label='f_z (N)', linewidth=4)\n",
    "# ax_act.plot(data['t'], data['user_data']['f_z_des'], '--', label='desired f_z (N-m)', linewidth=4)\n",
    "ax_act.grid()\n",
    "ax_act.legend(fontsize=16)\n",
    "ax_act.tick_params(labelsize=14)\n",
    "\n",
    "# Set shared x-axis properties\n",
    "ax_act.set_xlabel('time (s)', fontsize=20)\n",
    "ax_act.set_xlim([data['t'][0], data['t'][-1]])\n",
    "\n",
    "# Make the arrangement of subplots look nice\n",
    "fig.tight_layout()"
   ]
  },
  {
   "cell_type": "code",
   "execution_count": 25,
   "id": "103fc8bb",
   "metadata": {},
   "outputs": [
    {
     "data": {
      "text/plain": [
       "10498"
      ]
     },
     "execution_count": 25,
     "metadata": {},
     "output_type": "execute_result"
    }
   ],
   "source": [
    "data['tau_x'].size"
   ]
  },
  {
   "cell_type": "markdown",
   "id": "2aca6da9",
   "metadata": {},
   "source": [
    "# Additional Code Snippets"
   ]
  },
  {
   "cell_type": "markdown",
   "id": "e0967141",
   "metadata": {},
   "source": [
    "### The following code may not be useful if you are not participating in the contests and you can delete it from your notebook"
   ]
  },
  {
   "cell_type": "markdown",
   "id": "f4a53e01",
   "metadata": {},
   "source": [
    "The following sections provide code snippets for doing different things, including making videos, rearranging the rings, loading controllers from the `students` folder to test your collision avoidance code, etc. "
   ]
  },
  {
   "cell_type": "markdown",
   "id": "4c05fa24",
   "metadata": {},
   "source": [
    "## Example of how to load drones from the \"students\" directory"
   ]
  },
  {
   "cell_type": "markdown",
   "id": "6486f852",
   "metadata": {},
   "source": [
    "Load drones from `students` directory."
   ]
  },
  {
   "cell_type": "code",
   "execution_count": null,
   "id": "d8978762",
   "metadata": {},
   "outputs": [],
   "source": [
    "simulator.load_drones()"
   ]
  },
  {
   "cell_type": "markdown",
   "id": "18d99fc2",
   "metadata": {},
   "source": [
    "Reset drones (places drones at random positions within the start ring)."
   ]
  },
  {
   "cell_type": "code",
   "execution_count": null,
   "id": "b2dbb61a",
   "metadata": {},
   "outputs": [],
   "source": [
    "simulator.reset()"
   ]
  },
  {
   "cell_type": "markdown",
   "id": "fb00dd3e",
   "metadata": {},
   "source": [
    "Run simulation for `max_time` seconds or until all drones finish."
   ]
  },
  {
   "cell_type": "code",
   "execution_count": null,
   "id": "959ae48d",
   "metadata": {},
   "outputs": [],
   "source": [
    "simulator.run(max_time=5.0)"
   ]
  },
  {
   "cell_type": "markdown",
   "id": "cfd81c42",
   "metadata": {},
   "source": [
    "## Example of how to show results, change views, keep running"
   ]
  },
  {
   "cell_type": "markdown",
   "id": "34df2d5c",
   "metadata": {},
   "source": [
    "Show results (so far)."
   ]
  },
  {
   "cell_type": "code",
   "execution_count": null,
   "id": "4e696df7",
   "metadata": {},
   "outputs": [],
   "source": [
    "simulator.show_results()"
   ]
  },
  {
   "cell_type": "markdown",
   "id": "e5816ccb",
   "metadata": {},
   "source": [
    "View from behind a particular drone."
   ]
  },
  {
   "cell_type": "code",
   "execution_count": null,
   "id": "e1e9fd44",
   "metadata": {},
   "outputs": [],
   "source": [
    "simulator.camera_droneview('template')"
   ]
  },
  {
   "cell_type": "markdown",
   "id": "d2d0cabf",
   "metadata": {},
   "source": [
    "Continue running simulation from same point for `max_time` seconds or until all drones finish."
   ]
  },
  {
   "cell_type": "code",
   "execution_count": null,
   "id": "a8568ee5",
   "metadata": {},
   "outputs": [],
   "source": [
    "simulator.run(max_time=5.0)"
   ]
  },
  {
   "cell_type": "markdown",
   "id": "f9671f37",
   "metadata": {},
   "source": [
    "View from finish ring instead of from start ring."
   ]
  },
  {
   "cell_type": "code",
   "execution_count": 25,
   "id": "d566a09a",
   "metadata": {},
   "outputs": [],
   "source": [
    "simulator.camera_finishview()"
   ]
  },
  {
   "cell_type": "markdown",
   "id": "013f1a2a",
   "metadata": {},
   "source": [
    "Continue running simulation from same point for `max_time` seconds or until all drones finish."
   ]
  },
  {
   "cell_type": "code",
   "execution_count": null,
   "id": "05401dc5",
   "metadata": {},
   "outputs": [],
   "source": [
    "simulator.run(max_time=5.0)"
   ]
  },
  {
   "cell_type": "markdown",
   "id": "262be24e",
   "metadata": {},
   "source": [
    "Show results (so far)."
   ]
  },
  {
   "cell_type": "code",
   "execution_count": null,
   "id": "560da6be",
   "metadata": {},
   "outputs": [],
   "source": [
    "simulator.show_results()"
   ]
  },
  {
   "cell_type": "markdown",
   "id": "787c5508",
   "metadata": {},
   "source": [
    "## Example of how to clear and reload drones"
   ]
  },
  {
   "cell_type": "markdown",
   "id": "aedad496",
   "metadata": {},
   "source": [
    "Clear all drones."
   ]
  },
  {
   "cell_type": "code",
   "execution_count": null,
   "id": "c72c268e",
   "metadata": {},
   "outputs": [],
   "source": [
    "simulator.clear_drones()"
   ]
  },
  {
   "cell_type": "markdown",
   "id": "c960a2fc",
   "metadata": {},
   "source": [
    "Load drones again from `students` directory."
   ]
  },
  {
   "cell_type": "code",
   "execution_count": null,
   "id": "435e238a",
   "metadata": {},
   "outputs": [],
   "source": [
    "simulator.load_drones()"
   ]
  },
  {
   "cell_type": "markdown",
   "id": "c4a4e103",
   "metadata": {},
   "source": [
    "Reset drones (places drones at random positions within the start ring)."
   ]
  },
  {
   "cell_type": "code",
   "execution_count": null,
   "id": "34de685d",
   "metadata": {},
   "outputs": [],
   "source": [
    "simulator.reset()"
   ]
  },
  {
   "cell_type": "markdown",
   "id": "fbb4e642",
   "metadata": {},
   "source": [
    "Run simulation until `max_time` is reached or until all drones finish."
   ]
  },
  {
   "cell_type": "code",
   "execution_count": null,
   "id": "ef3c35bc",
   "metadata": {},
   "outputs": [],
   "source": [
    "simulator.run(max_time=5.0)"
   ]
  },
  {
   "cell_type": "markdown",
   "id": "62d64b7a",
   "metadata": {},
   "source": [
    "## Example of how to rearrange the rings"
   ]
  },
  {
   "cell_type": "markdown",
   "id": "148c1b5e",
   "metadata": {},
   "source": [
    "Rearrange the rings."
   ]
  },
  {
   "cell_type": "code",
   "execution_count": null,
   "id": "46566c57",
   "metadata": {},
   "outputs": [],
   "source": [
    "simulator.move_rings()"
   ]
  },
  {
   "cell_type": "markdown",
   "id": "7b9bba24",
   "metadata": {},
   "source": [
    "Reset drones (places drones at random positions within the start ring)."
   ]
  },
  {
   "cell_type": "code",
   "execution_count": null,
   "id": "73a39ca7",
   "metadata": {},
   "outputs": [],
   "source": [
    "simulator.reset()"
   ]
  },
  {
   "cell_type": "markdown",
   "id": "a22dc58f",
   "metadata": {},
   "source": [
    "Run simulation until `max_time` is reached or until all drones finish."
   ]
  },
  {
   "cell_type": "code",
   "execution_count": null,
   "id": "330cb844",
   "metadata": {},
   "outputs": [],
   "source": [
    "simulator.run(max_time=5.0)"
   ]
  },
  {
   "cell_type": "markdown",
   "id": "b2da4a52",
   "metadata": {},
   "source": [
    "## Example of how to take a snapshot"
   ]
  },
  {
   "cell_type": "markdown",
   "id": "41710e47",
   "metadata": {},
   "source": [
    "View from behind a particular drone."
   ]
  },
  {
   "cell_type": "code",
   "execution_count": null,
   "id": "853ac645",
   "metadata": {},
   "outputs": [],
   "source": [
    "simulator.camera_droneview('template')"
   ]
  },
  {
   "cell_type": "markdown",
   "id": "dd5c9e5b",
   "metadata": {},
   "source": [
    "Display a snapshot."
   ]
  },
  {
   "cell_type": "code",
   "execution_count": null,
   "id": "0b68ad1b",
   "metadata": {},
   "outputs": [],
   "source": [
    "# Get snapshot as 480 x 480 x 4 numpy array of RGBA values\n",
    "rgba = simulator.snapshot()\n",
    "\n",
    "# Display snapshot\n",
    "plt.figure(figsize=(9, 9))\n",
    "plt.imshow(rgba)"
   ]
  },
  {
   "cell_type": "markdown",
   "id": "e5a5078d",
   "metadata": {},
   "source": [
    "Save the snapshot."
   ]
  },
  {
   "cell_type": "code",
   "execution_count": null,
   "id": "c360579f",
   "metadata": {},
   "outputs": [],
   "source": [
    "plt.imsave('my_snapshot.png', rgba)"
   ]
  },
  {
   "cell_type": "markdown",
   "id": "49ed9b75",
   "metadata": {},
   "source": [
    "## Example of how to record a movie"
   ]
  },
  {
   "cell_type": "markdown",
   "id": "f89cf9a0",
   "metadata": {},
   "source": [
    "You must install both [imageio](https://urldefense.com/v3/__https://github.com/imageio/imageio__;!!DZ3fjg!5XPoUbh51ZMkI_gcRfXcJEw7RMzlJqUwz0wfEMuiObKc8j5eQBZw_AzuIZa4qI6IPrj9qupUf9By72ma9kHEe-GnJ-QYlg$ ) and [imageio-ffmpeg](https://urldefense.com/v3/__https://github.com/imageio/imageio-ffmpeg__;!!DZ3fjg!5XPoUbh51ZMkI_gcRfXcJEw7RMzlJqUwz0wfEMuiObKc8j5eQBZw_AzuIZa4qI6IPrj9qupUf9By72ma9kHEe-FJfhXtNA$ ) in order for this to work. You can do this from a terminal (in your `ae353-bullet` environment, for example) as follows:\n",
    "\n",
    "```\n",
    "pip install imageio\n",
    "pip install imageio-ffmpeg\n",
    "```"
   ]
  },
  {
   "cell_type": "markdown",
   "id": "e3843b30",
   "metadata": {},
   "source": [
    "Reset drones (places drones at random positions within the start ring)."
   ]
  },
  {
   "cell_type": "code",
   "execution_count": null,
   "id": "0ad80fe3",
   "metadata": {},
   "outputs": [],
   "source": [
    "simulator.reset()"
   ]
  },
  {
   "cell_type": "markdown",
   "id": "28451ba0",
   "metadata": {},
   "source": [
    "View from behind a particular drone."
   ]
  },
  {
   "cell_type": "code",
   "execution_count": null,
   "id": "d9166a1c",
   "metadata": {},
   "outputs": [],
   "source": [
    "simulator.camera_droneview('template')"
   ]
  },
  {
   "cell_type": "markdown",
   "id": "2888a264",
   "metadata": {},
   "source": [
    "Run simulation until `max_time` is reached or until all drones finish, saving movie to `my_video.mp4`."
   ]
  },
  {
   "cell_type": "code",
   "execution_count": null,
   "id": "e0eb3efa",
   "metadata": {},
   "outputs": [],
   "source": [
    "simulator.run(max_time=1.0, video_filename='my_video.mp4')"
   ]
  },
  {
   "cell_type": "code",
   "execution_count": 52,
   "id": "642075c4-22d1-4993-bf91-1b209954d475",
   "metadata": {},
   "outputs": [],
   "source": [
    "from sympy.physics import mechanics\n",
    "mechanics.init_vprinting()"
   ]
  },
  {
   "cell_type": "code",
   "execution_count": 53,
   "id": "ad72a2af-7f63-4d57-adf3-c511f03625f8",
   "metadata": {},
   "outputs": [
    {
     "name": "stdout",
     "output_type": "stream",
     "text": [
      "\\left[\\begin{matrix}v_{x}\\\\v_{y}\\\\v_{z}\\\\\\frac{w_{x} \\cos{\\left(\\psi \\right)} - w_{y} \\sin{\\left(\\psi \\right)}}{\\cos{\\left(\\theta \\right)}}\\\\w_{x} \\sin{\\left(\\psi \\right)} + w_{y} \\cos{\\left(\\psi \\right)}\\\\- w_{x} \\cos{\\left(\\psi \\right)} \\tan{\\left(\\theta \\right)} + w_{y} \\sin{\\left(\\psi \\right)} \\tan{\\left(\\theta \\right)} + w_{z}\\\\2 f_{z} \\sin{\\left(\\theta \\right)}\\\\- 2 f_{z} \\sin{\\left(\\phi \\right)} \\cos{\\left(\\theta \\right)}\\\\2 f_{z} \\cos{\\left(\\phi \\right)} \\cos{\\left(\\theta \\right)} - \\frac{981}{100}\\\\\\frac{10000 \\tau_{x}}{23} - \\frac{17 w_{y} w_{z}}{23}\\\\\\frac{10000 \\tau_{y}}{23} + \\frac{17 w_{x} w_{z}}{23}\\\\250 \\tau_{z}\\end{matrix}\\right]\n"
     ]
    }
   ],
   "source": [
    "print(f'{mechanics.mlatex(f)}')"
   ]
  },
  {
   "cell_type": "code",
   "execution_count": 29,
   "id": "926c75e7-f05a-4189-8dea-bcbf08927e68",
   "metadata": {},
   "outputs": [
    {
     "name": "stdout",
     "output_type": "stream",
     "text": [
      "\\mathtt{\\text{[[40000     0     0     0     0     0     0     0     0     0     0     0]\n",
      " [    0 60000     0     0     0     0     0     0     0     0     0     0]\n",
      " [    0     0 60000     0     0     0     0     0     0     0     0     0]\n",
      " [    0     0     0     1     0     0     0     0     0     0     0     0]\n",
      " [    0     0     0     0     1     0     0     0     0     0     0     0]\n",
      " [    0     0     0     0     0     1     0     0     0     0     0     0]\n",
      " [    0     0     0     0     0     0     1     0     0     0     0     0]\n",
      " [    0     0     0     0     0     0     0     1     0     0     0     0]\n",
      " [    0     0     0     0     0     0     0     0     1     0     0     0]\n",
      " [    0     0     0     0     0     0     0     0     0     1     0     0]\n",
      " [    0     0     0     0     0     0     0     0     0     0     1     0]\n",
      " [    0     0     0     0     0     0     0     0     0     0     0     1]]}}\n"
     ]
    }
   ],
   "source": [
    "print(f'{sym.latex(Q)}')"
   ]
  },
  {
   "cell_type": "code",
   "execution_count": null,
   "id": "f1b274de-75e1-4d98-afab-70a9b6d2853d",
   "metadata": {},
   "outputs": [],
   "source": []
  },
  {
   "cell_type": "code",
   "execution_count": 37,
   "id": "f044b972-9cce-4347-9672-79549d909ccb",
   "metadata": {},
   "outputs": [
    {
     "name": "stdout",
     "output_type": "stream",
     "text": [
      "\\left[\\begin{array}{cccccccccccc}1 & 0 & 0 & 0 & 0 & 0 & 0 & 0 & 0 & 0 & 0 & 0\\\\0 & 1 & 0 & 0 & 0 & 0 & 0 & 0 & 0 & 0 & 0 & 0\\\\0 & 0 & 1 & 0 & 0 & 0 & 0 & 0 & 0 & 0 & 0 & 0\\\\0 & 0 & 0 & 1 & 0 & 0 & 0 & 0 & 0 & 0 & 0 & 0\\\\0 & 0 & 0 & 0 & 1 & 0 & 0 & 0 & 0 & 0 & 0 & 0\\\\0 & 0 & 0 & 0 & 0 & 1 & 0 & 0 & 0 & 0 & 0 & 0\\\\0 & 0 & 0 & 0 & 0 & 0 & 1 & 0 & 0 & 0 & 0 & 0\\\\0 & 0 & 0 & 0 & 0 & 0 & 0 & 1 & 0 & 0 & 0 & 0\\\\0 & 0 & 0 & 0 & 0 & 0 & 0 & 0 & 1 & 0 & 0 & 0\\\\0 & 0 & 0 & 0 & 0 & 0 & 0 & 0 & 0 & 1 & 0 & 0\\\\0 & 0 & 0 & 0 & 0 & 0 & 0 & 0 & 0 & 0 & 1 & 0\\\\0 & 0 & 0 & 0 & 0 & 0 & 0 & 0 & 0 & 0 & 0 & 1\\end{array}\\right]\n"
     ]
    }
   ],
   "source": [
    "lol = sym.Matrix(R1)\n",
    "print(f'{mechanics.mlatex(lol)}')"
   ]
  },
  {
   "cell_type": "code",
   "execution_count": 45,
   "id": "e7fe1180-f5a6-4f86-a416-533b382234d6",
   "metadata": {},
   "outputs": [
    {
     "name": "stdout",
     "output_type": "stream",
     "text": [
      "\\left[\\begin{matrix}0 & 0 & 0 & 0\\\\0 & 0 & 0 & 0\\\\0 & 0 & 0 & 0\\\\0 & 0 & 0 & 0\\\\0 & 0 & 0 & 0\\\\0 & 0 & 0 & 0\\\\0 & 0 & 0 & 2 \\sin{\\left(\\theta \\right)}\\\\0 & 0 & 0 & - 2 \\sin{\\left(\\phi \\right)} \\cos{\\left(\\theta \\right)}\\\\0 & 0 & 0 & 2 \\cos{\\left(\\phi \\right)} \\cos{\\left(\\theta \\right)}\\\\\\frac{10000}{23} & 0 & 0 & 0\\\\0 & \\frac{10000}{23} & 0 & 0\\\\0 & 0 & 250 & 0\\end{matrix}\\right]\n"
     ]
    }
   ],
   "source": [
    "print(f'{mechanics.mlatex(B)}')"
   ]
  },
  {
   "cell_type": "code",
   "execution_count": 46,
   "id": "2d16043e-766e-4c77-902e-20468fb189c3",
   "metadata": {},
   "outputs": [
    {
     "name": "stdout",
     "output_type": "stream",
     "text": [
      "\\left[\\begin{array}{cccccccccccc}1 & 0 & 0 & 0 & 0 & 0 & 0 & 0 & 0 & 0 & 0 & 0\\\\0 & 1 & 0 & 0 & 0 & 0 & 0 & 0 & 0 & 0 & 0 & 0\\\\0 & 0 & 1 & 0 & 0 & 0 & 0 & 0 & 0 & 0 & 0 & 0\\\\0 & 0 & 0 & 1 & 0 & 0 & 0 & 0 & 0 & 0 & 0 & 0\\\\0 & 0 & 0 & 0 & 1 & 0 & 0 & 0 & 0 & 0 & 0 & 0\\\\0 & 0 & 0 & 0 & 0 & 1 & 0 & 0 & 0 & 0 & 0 & 0\\end{array}\\right]\n"
     ]
    }
   ],
   "source": [
    "print(f'{mechanics.mlatex(C)}')"
   ]
  },
  {
   "cell_type": "code",
   "execution_count": 47,
   "id": "ac2e06df-72a9-4260-9028-1ab17a7fb87b",
   "metadata": {},
   "outputs": [
    {
     "name": "stdout",
     "output_type": "stream",
     "text": [
      "\\mathtt{\\text{[[-2.23061647e-13 -1.09544512e+02  1.64045957e-13  1.28147708e+01\n",
      "  -2.42936225e-14  8.29889745e-16 -2.90077562e-14 -1.69232170e+01\n",
      "   7.27179621e-15  5.08869282e-01  9.58018218e-18 -1.61602659e-17]\n",
      " [ 8.94427191e+01  8.53494115e-14  1.84928850e-15  1.09757428e-15\n",
      "   1.19301262e+01 -1.86094743e-16  1.47562176e+01  1.11416237e-14\n",
      "   3.99919753e-16  9.58018218e-18  5.04855009e-01  3.23838910e-17]\n",
      " [ 1.73384519e-13  6.51538895e-14  1.87132869e-14 -5.74575157e-15\n",
      "   5.87695620e-15  4.47213595e-01  2.58438454e-14  1.01513677e-14\n",
      "   2.35389562e-15 -9.29215291e-18  1.86207373e-17  4.51195865e-01]\n",
      " [ 4.02523842e-14 -1.62788713e-13  1.54919334e+02  5.07837218e-15\n",
      "   3.73107741e-15  4.47840680e-16  6.16209901e-15 -1.12814669e-14\n",
      "   1.24627178e+01  6.69005251e-17  3.67926173e-18  3.76623299e-17]]}}\n"
     ]
    }
   ],
   "source": [
    "print(f'{mechanics.mlatex(K)}')"
   ]
  },
  {
   "cell_type": "code",
   "execution_count": 48,
   "id": "3286d95e-86dc-4f79-9820-73a5a556e4c7",
   "metadata": {},
   "outputs": [
    {
     "ename": "NameError",
     "evalue": "name 'mechanics' is not defined",
     "output_type": "error",
     "traceback": [
      "\u001b[0;31m---------------------------------------------------------------------------\u001b[0m",
      "\u001b[0;31mNameError\u001b[0m                                 Traceback (most recent call last)",
      "Cell \u001b[0;32mIn [19], line 1\u001b[0m\n\u001b[0;32m----> 1\u001b[0m \u001b[38;5;28mprint\u001b[39m(\u001b[38;5;124mf\u001b[39m\u001b[38;5;124m'\u001b[39m\u001b[38;5;132;01m{\u001b[39;00mmechanics\u001b[38;5;241m.\u001b[39mmlatex(Q)\u001b[38;5;132;01m}\u001b[39;00m\u001b[38;5;124m'\u001b[39m)\n",
      "\u001b[0;31mNameError\u001b[0m: name 'mechanics' is not defined"
     ]
    }
   ],
   "source": [
    "print(f'{mechanics.mlatex(Q)}')"
   ]
  },
  {
   "cell_type": "code",
   "execution_count": 49,
   "id": "13fabe3b-8b5e-40c2-b38c-54e78a4fc997",
   "metadata": {},
   "outputs": [
    {
     "name": "stdout",
     "output_type": "stream",
     "text": [
      "\\mathtt{\\text{[[40000     0     0     0     0     0     0     0     0     0     0     0]\n",
      " [    0 60000     0     0     0     0     0     0     0     0     0     0]\n",
      " [    0     0 60000     0     0     0     0     0     0     0     0     0]\n",
      " [    0     0     0     1     0     0     0     0     0     0     0     0]\n",
      " [    0     0     0     0     1     0     0     0     0     0     0     0]\n",
      " [    0     0     0     0     0     1     0     0     0     0     0     0]\n",
      " [    0     0     0     0     0     0     1     0     0     0     0     0]\n",
      " [    0     0     0     0     0     0     0     1     0     0     0     0]\n",
      " [    0     0     0     0     0     0     0     0     1     0     0     0]\n",
      " [    0     0     0     0     0     0     0     0     0     1     0     0]\n",
      " [    0     0     0     0     0     0     0     0     0     0     1     0]\n",
      " [    0     0     0     0     0     0     0     0     0     0     0     1]]}}\n"
     ]
    }
   ],
   "source": [
    "print(f'{mechanics.mlatex(Q)}')"
   ]
  },
  {
   "cell_type": "code",
   "execution_count": 50,
   "id": "360ed029-8bde-4bb4-9dc1-3a96163eb3a8",
   "metadata": {},
   "outputs": [
    {
     "name": "stdout",
     "output_type": "stream",
     "text": [
      "\\mathtt{\\text{[[5.  0.  0.  0. ]\n",
      " [0.  5.  0.  0. ]\n",
      " [0.  0.  5.  0. ]\n",
      " [0.  0.  0.  2.5]]}}\n"
     ]
    }
   ],
   "source": [
    "print(f'{mechanics.mlatex(R)}')"
   ]
  },
  {
   "cell_type": "code",
   "execution_count": null,
   "id": "eee873d0-7a85-41bd-8ef2-3f083c1526ea",
   "metadata": {},
   "outputs": [],
   "source": []
  }
 ],
 "metadata": {
  "kernelspec": {
   "display_name": "Python (ae353-bullet)",
   "language": "python",
   "name": "ae353-bullet"
  },
  "language_info": {
   "codemirror_mode": {
    "name": "ipython",
    "version": 3
   },
   "file_extension": ".py",
   "mimetype": "text/x-python",
   "name": "python",
   "nbconvert_exporter": "python",
   "pygments_lexer": "ipython3",
   "version": "3.10.4"
  }
 },
 "nbformat": 4,
 "nbformat_minor": 5
}
